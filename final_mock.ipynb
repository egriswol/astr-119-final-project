{
 "cells": [
  {
   "cell_type": "markdown",
   "metadata": {},
   "source": [
    "### Need to do a numerical integration of the function to get the tolerance"
   ]
  },
  {
   "cell_type": "code",
   "execution_count": null,
   "metadata": {},
   "outputs": [],
   "source": [
    "\"\"\"trapezod, simpson, romberg, runga kutta or cash karp\n",
    "\n",
    "must be able to perform on any integrable function\n",
    "\n",
    "output should be a float \n",
    "\n",
    "we will later stop our MCI once it gets near this float\n",
    "\"\"\"\n"
   ]
  },
  {
   "cell_type": "markdown",
   "metadata": {},
   "source": [
    "### Define a function to get the range of the given function"
   ]
  },
  {
   "cell_type": "code",
   "execution_count": null,
   "metadata": {},
   "outputs": [],
   "source": [
    "define a function to get the range of the function\n",
    "    should find the min and max values, maybe add a little cushion to the max(?)\n",
    "\n",
    "should output the min and max with or without cushion\n"
   ]
  },
  {
   "cell_type": "markdown",
   "metadata": {},
   "source": [
    "### find the area of the box"
   ]
  },
  {
   "cell_type": "code",
   "execution_count": null,
   "metadata": {},
   "outputs": [],
   "source": [
    "this could probably be included with finding the range\n",
    "    should find the difference between the min and max of domain \n",
    "    and multiply it by the min and max of the range"
   ]
  },
  {
   "cell_type": "markdown",
   "metadata": {},
   "source": [
    "### The integrator"
   ]
  },
  {
   "cell_type": "code",
   "execution_count": null,
   "metadata": {},
   "outputs": [],
   "source": [
    "takes in function, range, tolerance, area\n",
    "\n",
    "creates 2 empty arrays, one for points at or above line and one for points below\n",
    "\n",
    "generates random points within box\n",
    "\n",
    "for x of every random point\n",
    "    calculate the function value\n",
    "        if y value of random point < function value\n",
    "            add to \"under\" array\n",
    "        else\n",
    "            add to \"over\" \n",
    "            \n",
    "    continue for all random points generated, check with tolerance\n",
    "    \n",
    "        if tolerance has not been reached\n",
    "            generate more random points, keep running\n",
    "            \n",
    "        else tolerance has been reached\n",
    "        stop\n",
    "        \n",
    "        \n",
    "once tolerance has been reached and we are out of for loop\n",
    "    get number of points in both arrays \n",
    "    divide number of points in \"below\" array by total nuber of points generated\n",
    "        multiply this ratio by total area \n",
    "            (gives  total area under curve)\n",
    "            \n",
    "outputs total area under curve, both arrays"
   ]
  },
  {
   "cell_type": "markdown",
   "metadata": {},
   "source": [
    "### plot "
   ]
  },
  {
   "cell_type": "code",
   "execution_count": null,
   "metadata": {},
   "outputs": [],
   "source": [
    "Takes in range, domain, arrays, integral value, given function\n",
    "plots given function\n",
    "plots points in \"under\" array one color, \"over\" array another color\n",
    "sets domain and range\n",
    "labels axes\n",
    "writes \"F(given function) = integral value\"\n"
   ]
  },
  {
   "cell_type": "code",
   "execution_count": null,
   "metadata": {},
   "outputs": [],
   "source": []
  }
 ],
 "metadata": {
  "kernelspec": {
   "display_name": "Python 3",
   "language": "python",
   "name": "python3"
  },
  "language_info": {
   "codemirror_mode": {
    "name": "ipython",
    "version": 3
   },
   "file_extension": ".py",
   "mimetype": "text/x-python",
   "name": "python",
   "nbconvert_exporter": "python",
   "pygments_lexer": "ipython3",
   "version": "3.6.5"
  }
 },
 "nbformat": 4,
 "nbformat_minor": 2
}
